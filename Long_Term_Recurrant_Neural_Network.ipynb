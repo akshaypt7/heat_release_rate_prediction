{
  "nbformat": 4,
  "nbformat_minor": 0,
  "metadata": {
    "colab": {
      "name": "Long Term Recurrant Neural Network.ipynb",
      "provenance": [],
      "machine_shape": "hm"
    },
    "kernelspec": {
      "name": "python3",
      "display_name": "Python 3"
    },
    "language_info": {
      "name": "python"
    },
    "accelerator": "GPU",
    "gpuClass": "standard"
  },
  "cells": [
    {
      "cell_type": "code",
      "execution_count": null,
      "metadata": {
        "id": "K5q0DgEs2UWN",
        "colab": {
          "base_uri": "https://localhost:8080/"
        },
        "outputId": "9972e320-2b75-4ede-fe43-0c66d5b38497"
      },
      "outputs": [
        {
          "output_type": "stream",
          "name": "stdout",
          "text": [
            "Drive already mounted at /content/drive; to attempt to forcibly remount, call drive.mount(\"/content/drive\", force_remount=True).\n"
          ]
        }
      ],
      "source": [
        "from google.colab import drive\n",
        "drive.mount('/content/drive')"
      ]
    },
    {
      "cell_type": "code",
      "source": [
        "import os\n",
        "import pathlib\n",
        "import cv2\n",
        "\n",
        "import glob\n",
        "from PIL import Image\n",
        "import random\n",
        "\n",
        "import pandas as pd\n",
        "import numpy as np\n",
        "import matplotlib.pyplot as plt\n",
        "import seaborn as sns\n",
        "\n",
        "from prettytable import PrettyTable\n",
        "\n",
        "from sklearn.metrics import confusion_matrix\n",
        "from sklearn.model_selection import train_test_split\n",
        "from sklearn.metrics import r2_score\n",
        "\n",
        "\n",
        "import tensorflow as tf\n",
        "from tensorflow import keras\n",
        "from keras.models import Sequential, Model, load_model\n",
        "from keras.layers import Dense, Dropout, Flatten, Activation, Conv2D, MaxPooling2D, Input, LSTM, TimeDistributed, BatchNormalization\n",
        "from tensorflow.keras.optimizers import Adam\n",
        "from tensorflow.keras.regularizers import l1,l2\n",
        "from tensorflow.keras.utils import to_categorical\n",
        "\n",
        "from datetime import datetime\n",
        "\n",
        "%matplotlib inline"
      ],
      "metadata": {
        "id": "Wd_Da5JC2YUZ"
      },
      "execution_count": null,
      "outputs": []
    },
    {
      "cell_type": "code",
      "source": [
        "list_ = os.listdir('/content/drive/MyDrive/AI3 Project Group/DataFolder/full-heatstamps/') # dir is your directory path\n",
        "number_files = len(list_)\n",
        "print(number_files)\n",
        "\n",
        "list_ = os.listdir('/content/drive/MyDrive/AI3 Project Group/DataFolder/small-heatstamps/') # dir is your directory path\n",
        "number_files = len(list_)\n",
        "print(number_files)"
      ],
      "metadata": {
        "colab": {
          "base_uri": "https://localhost:8080/"
        },
        "id": "eLMwQPCe2Zf2",
        "outputId": "7aae87fc-a6e3-4bc5-c45e-ba217a5832d3"
      },
      "execution_count": null,
      "outputs": [
        {
          "output_type": "stream",
          "name": "stdout",
          "text": [
            "5087\n",
            "311\n"
          ]
        }
      ]
    },
    {
      "cell_type": "code",
      "source": [
        "def load_images_from_folder(folder):\n",
        "    print(\"Reading Images\")\n",
        "    df = pd.DataFrame()\n",
        "\n",
        "    frame_index=0\n",
        "    for filename in glob.glob(folder):\n",
        "        #print(f'Filename : {filename}')\n",
        "\n",
        "        idx_start=filename.find(\"heatstamps\")\n",
        "        assert (idx_start>-1), 'Directory names are not correct!'\n",
        "        idx_end= filename.find(\"_\")\n",
        "        exp_id = filename[idx_start+11:idx_end]\n",
        "\n",
        "        idx_start = idx_end+1\n",
        "        idx_end = filename.find(\"_\", idx_start)\n",
        "        time = filename[idx_start:idx_end]\n",
        "\n",
        "        idx_start = idx_end+1\n",
        "        hrr = float(filename[idx_start:-4])\n",
        "\n",
        "        df_row = pd.DataFrame(data=np.array([[exp_id, time, hrr, filename, frame_index]]), \n",
        "                              columns=['expID','time','hrr', 'file_path', 'frame_index'])\n",
        "        df = pd.concat([df,df_row], ignore_index=True)\n",
        "        frame_index += 1\n",
        "                                       \n",
        "    print(\"Finished Reading Images\")\n",
        "    # print(\"Total number of images read =\", x_image.shape[0], end='\\n      ')\n",
        "    \n",
        "    df = df.astype({\"expID\": int, \"time\": int, \"hrr\":float, 'file_path':str, 'frame_index': int}, errors='raise') \n",
        "    df[\"datetime\"] = df.expID.apply(lambda x: datetime.fromtimestamp(int(x)))\n",
        "    \n",
        "    print(\"Creating df_exp pandaframe\")\n",
        "    df_exp = pd.DataFrame()\n",
        "    expID_list = list(df.expID.unique())\n",
        "    for exp in expID_list:\n",
        "        df_temp = df[df.expID==exp].sort_values(by=\"time\")\n",
        "        time_list = df_temp.time.tolist()\n",
        "        hrr_list = df_temp.hrr.tolist()\n",
        "        filename_list = df_temp.file_path.tolist()\n",
        "        frameindex_list = df_temp.frame_index.tolist()\n",
        "        df_row = pd.DataFrame(data=np.array([[exp, time_list, hrr_list, filename_list, frameindex_list, len(df_temp)]]),\n",
        "                              columns=['expID', 'time_list', 'hrr_list', 'filename_list', 'frameindex_list', 'num_of_frames'])\n",
        "        df_exp = pd.concat([df_exp,df_row], ignore_index=True)\n",
        "    df_exp = df_exp.astype({\"expID\": int,  'num_of_frames': int}, errors='raise') \n",
        "    return df, df_exp"
      ],
      "metadata": {
        "id": "FV927G1xG7Hu"
      },
      "execution_count": null,
      "outputs": []
    },
    {
      "cell_type": "code",
      "source": [
        "folder_name = '/content/drive/MyDrive/AI3 Project Group/DataFolder/full-heatstamps/*.jpg' # /content/drive/MyDrive/ai3/DataFolder/full-heatstamps small-heatstamps\n",
        "size_x = 1080\n",
        "size_y = 1920\n",
        "df, df_exp =load_images_from_folder(folder_name)"
      ],
      "metadata": {
        "colab": {
          "base_uri": "https://localhost:8080/"
        },
        "id": "7fAJBC7GHYbe",
        "outputId": "6dc0ef71-7182-4d3e-c443-06c8b721dcb4"
      },
      "execution_count": null,
      "outputs": [
        {
          "output_type": "stream",
          "name": "stdout",
          "text": [
            "Reading Images\n",
            "Finished Reading Images\n",
            "Creating df_exp pandaframe\n"
          ]
        },
        {
          "output_type": "stream",
          "name": "stderr",
          "text": [
            "/usr/local/lib/python3.7/dist-packages/ipykernel_launcher.py:41: VisibleDeprecationWarning: Creating an ndarray from ragged nested sequences (which is a list-or-tuple of lists-or-tuples-or ndarrays with different lengths or shapes) is deprecated. If you meant to do this, you must specify 'dtype=object' when creating the ndarray.\n"
          ]
        }
      ]
    },
    {
      "cell_type": "code",
      "source": [
        "df_exp.head()"
      ],
      "metadata": {
        "colab": {
          "base_uri": "https://localhost:8080/",
          "height": 206
        },
        "id": "Eu6cyVwUHdpt",
        "outputId": "dd0140e9-fd56-410f-956d-48a8cb282128"
      },
      "execution_count": null,
      "outputs": [
        {
          "output_type": "execute_result",
          "data": {
            "text/plain": [
              "        expID                                          time_list  \\\n",
              "0  1492091485  [0, 100, 200, 300, 400, 500, 600, 700, 800, 90...   \n",
              "1  1492523586  [0, 100, 200, 300, 400, 500, 600, 700, 800, 90...   \n",
              "2  1490104501  [0, 100, 200, 300, 400, 500, 600, 700, 800, 90...   \n",
              "3  1510150535                       [0, 100, 200, 300, 400, 500]   \n",
              "4  1510153921  [0, 100, 200, 300, 400, 500, 600, 700, 800, 90...   \n",
              "\n",
              "                                            hrr_list  \\\n",
              "0  [329.91, 2373.3, 8395.7, 7242.1, 8244.0, 6152....   \n",
              "1  [-0.63, -3.51, 2.66, -9.88, -3.85, -12.41, 31....   \n",
              "2  [13.55, -8.2, 19.29, 91.71, 133.87, 244.64, 30...   \n",
              "3          [1.72, -0.83, -4.03, -1.29, -0.86, -1.37]   \n",
              "4  [3.18, 5339.3, 583.87, 1132.3, 977.15, 1151.4,...   \n",
              "\n",
              "                                       filename_list  \\\n",
              "0  [/content/drive/MyDrive/AI3 Project Group/Data...   \n",
              "1  [/content/drive/MyDrive/AI3 Project Group/Data...   \n",
              "2  [/content/drive/MyDrive/AI3 Project Group/Data...   \n",
              "3  [/content/drive/MyDrive/AI3 Project Group/Data...   \n",
              "4  [/content/drive/MyDrive/AI3 Project Group/Data...   \n",
              "\n",
              "                                     frameindex_list  num_of_frames  \n",
              "0  [1888, 1881, 1943, 1960, 1977, 1971, 1993, 4, ...            144  \n",
              "1  [31, 50, 82, 102, 108, 111, 126, 152, 157, 169...            140  \n",
              "2  [1765, 1778, 1799, 1819, 1814, 1836, 1847, 185...            118  \n",
              "3                     [168, 160, 189, 184, 180, 175]              6  \n",
              "4  [177, 176, 183, 179, 181, 186, 182, 190, 187, ...             13  "
            ],
            "text/html": [
              "\n",
              "  <div id=\"df-c03c9098-3054-4e45-a62a-724ea78488ec\">\n",
              "    <div class=\"colab-df-container\">\n",
              "      <div>\n",
              "<style scoped>\n",
              "    .dataframe tbody tr th:only-of-type {\n",
              "        vertical-align: middle;\n",
              "    }\n",
              "\n",
              "    .dataframe tbody tr th {\n",
              "        vertical-align: top;\n",
              "    }\n",
              "\n",
              "    .dataframe thead th {\n",
              "        text-align: right;\n",
              "    }\n",
              "</style>\n",
              "<table border=\"1\" class=\"dataframe\">\n",
              "  <thead>\n",
              "    <tr style=\"text-align: right;\">\n",
              "      <th></th>\n",
              "      <th>expID</th>\n",
              "      <th>time_list</th>\n",
              "      <th>hrr_list</th>\n",
              "      <th>filename_list</th>\n",
              "      <th>frameindex_list</th>\n",
              "      <th>num_of_frames</th>\n",
              "    </tr>\n",
              "  </thead>\n",
              "  <tbody>\n",
              "    <tr>\n",
              "      <th>0</th>\n",
              "      <td>1492091485</td>\n",
              "      <td>[0, 100, 200, 300, 400, 500, 600, 700, 800, 90...</td>\n",
              "      <td>[329.91, 2373.3, 8395.7, 7242.1, 8244.0, 6152....</td>\n",
              "      <td>[/content/drive/MyDrive/AI3 Project Group/Data...</td>\n",
              "      <td>[1888, 1881, 1943, 1960, 1977, 1971, 1993, 4, ...</td>\n",
              "      <td>144</td>\n",
              "    </tr>\n",
              "    <tr>\n",
              "      <th>1</th>\n",
              "      <td>1492523586</td>\n",
              "      <td>[0, 100, 200, 300, 400, 500, 600, 700, 800, 90...</td>\n",
              "      <td>[-0.63, -3.51, 2.66, -9.88, -3.85, -12.41, 31....</td>\n",
              "      <td>[/content/drive/MyDrive/AI3 Project Group/Data...</td>\n",
              "      <td>[31, 50, 82, 102, 108, 111, 126, 152, 157, 169...</td>\n",
              "      <td>140</td>\n",
              "    </tr>\n",
              "    <tr>\n",
              "      <th>2</th>\n",
              "      <td>1490104501</td>\n",
              "      <td>[0, 100, 200, 300, 400, 500, 600, 700, 800, 90...</td>\n",
              "      <td>[13.55, -8.2, 19.29, 91.71, 133.87, 244.64, 30...</td>\n",
              "      <td>[/content/drive/MyDrive/AI3 Project Group/Data...</td>\n",
              "      <td>[1765, 1778, 1799, 1819, 1814, 1836, 1847, 185...</td>\n",
              "      <td>118</td>\n",
              "    </tr>\n",
              "    <tr>\n",
              "      <th>3</th>\n",
              "      <td>1510150535</td>\n",
              "      <td>[0, 100, 200, 300, 400, 500]</td>\n",
              "      <td>[1.72, -0.83, -4.03, -1.29, -0.86, -1.37]</td>\n",
              "      <td>[/content/drive/MyDrive/AI3 Project Group/Data...</td>\n",
              "      <td>[168, 160, 189, 184, 180, 175]</td>\n",
              "      <td>6</td>\n",
              "    </tr>\n",
              "    <tr>\n",
              "      <th>4</th>\n",
              "      <td>1510153921</td>\n",
              "      <td>[0, 100, 200, 300, 400, 500, 600, 700, 800, 90...</td>\n",
              "      <td>[3.18, 5339.3, 583.87, 1132.3, 977.15, 1151.4,...</td>\n",
              "      <td>[/content/drive/MyDrive/AI3 Project Group/Data...</td>\n",
              "      <td>[177, 176, 183, 179, 181, 186, 182, 190, 187, ...</td>\n",
              "      <td>13</td>\n",
              "    </tr>\n",
              "  </tbody>\n",
              "</table>\n",
              "</div>\n",
              "      <button class=\"colab-df-convert\" onclick=\"convertToInteractive('df-c03c9098-3054-4e45-a62a-724ea78488ec')\"\n",
              "              title=\"Convert this dataframe to an interactive table.\"\n",
              "              style=\"display:none;\">\n",
              "        \n",
              "  <svg xmlns=\"http://www.w3.org/2000/svg\" height=\"24px\"viewBox=\"0 0 24 24\"\n",
              "       width=\"24px\">\n",
              "    <path d=\"M0 0h24v24H0V0z\" fill=\"none\"/>\n",
              "    <path d=\"M18.56 5.44l.94 2.06.94-2.06 2.06-.94-2.06-.94-.94-2.06-.94 2.06-2.06.94zm-11 1L8.5 8.5l.94-2.06 2.06-.94-2.06-.94L8.5 2.5l-.94 2.06-2.06.94zm10 10l.94 2.06.94-2.06 2.06-.94-2.06-.94-.94-2.06-.94 2.06-2.06.94z\"/><path d=\"M17.41 7.96l-1.37-1.37c-.4-.4-.92-.59-1.43-.59-.52 0-1.04.2-1.43.59L10.3 9.45l-7.72 7.72c-.78.78-.78 2.05 0 2.83L4 21.41c.39.39.9.59 1.41.59.51 0 1.02-.2 1.41-.59l7.78-7.78 2.81-2.81c.8-.78.8-2.07 0-2.86zM5.41 20L4 18.59l7.72-7.72 1.47 1.35L5.41 20z\"/>\n",
              "  </svg>\n",
              "      </button>\n",
              "      \n",
              "  <style>\n",
              "    .colab-df-container {\n",
              "      display:flex;\n",
              "      flex-wrap:wrap;\n",
              "      gap: 12px;\n",
              "    }\n",
              "\n",
              "    .colab-df-convert {\n",
              "      background-color: #E8F0FE;\n",
              "      border: none;\n",
              "      border-radius: 50%;\n",
              "      cursor: pointer;\n",
              "      display: none;\n",
              "      fill: #1967D2;\n",
              "      height: 32px;\n",
              "      padding: 0 0 0 0;\n",
              "      width: 32px;\n",
              "    }\n",
              "\n",
              "    .colab-df-convert:hover {\n",
              "      background-color: #E2EBFA;\n",
              "      box-shadow: 0px 1px 2px rgba(60, 64, 67, 0.3), 0px 1px 3px 1px rgba(60, 64, 67, 0.15);\n",
              "      fill: #174EA6;\n",
              "    }\n",
              "\n",
              "    [theme=dark] .colab-df-convert {\n",
              "      background-color: #3B4455;\n",
              "      fill: #D2E3FC;\n",
              "    }\n",
              "\n",
              "    [theme=dark] .colab-df-convert:hover {\n",
              "      background-color: #434B5C;\n",
              "      box-shadow: 0px 1px 3px 1px rgba(0, 0, 0, 0.15);\n",
              "      filter: drop-shadow(0px 1px 2px rgba(0, 0, 0, 0.3));\n",
              "      fill: #FFFFFF;\n",
              "    }\n",
              "  </style>\n",
              "\n",
              "      <script>\n",
              "        const buttonEl =\n",
              "          document.querySelector('#df-c03c9098-3054-4e45-a62a-724ea78488ec button.colab-df-convert');\n",
              "        buttonEl.style.display =\n",
              "          google.colab.kernel.accessAllowed ? 'block' : 'none';\n",
              "\n",
              "        async function convertToInteractive(key) {\n",
              "          const element = document.querySelector('#df-c03c9098-3054-4e45-a62a-724ea78488ec');\n",
              "          const dataTable =\n",
              "            await google.colab.kernel.invokeFunction('convertToInteractive',\n",
              "                                                     [key], {});\n",
              "          if (!dataTable) return;\n",
              "\n",
              "          const docLinkHtml = 'Like what you see? Visit the ' +\n",
              "            '<a target=\"_blank\" href=https://colab.research.google.com/notebooks/data_table.ipynb>data table notebook</a>'\n",
              "            + ' to learn more about interactive tables.';\n",
              "          element.innerHTML = '';\n",
              "          dataTable['output_type'] = 'display_data';\n",
              "          await google.colab.output.renderOutput(dataTable, element);\n",
              "          const docLink = document.createElement('div');\n",
              "          docLink.innerHTML = docLinkHtml;\n",
              "          element.appendChild(docLink);\n",
              "        }\n",
              "      </script>\n",
              "    </div>\n",
              "  </div>\n",
              "  "
            ]
          },
          "metadata": {},
          "execution_count": 6
        }
      ]
    },
    {
      "cell_type": "code",
      "source": [
        "train_df, val_df = train_test_split(df_exp[df_exp.num_of_frames<30], train_size = 0.8)"
      ],
      "metadata": {
        "id": "rUOy08jt-DDR"
      },
      "execution_count": null,
      "outputs": []
    },
    {
      "cell_type": "code",
      "source": [
        "AUTOTUNE = tf.data.AUTOTUNE\n",
        "\n",
        "train_x = tf.ragged.constant( train_df.filename_list.to_numpy() )\n",
        "train_y = tf.ragged.constant( train_df.hrr_list.to_numpy() )\n",
        "\n",
        "val_x = tf.ragged.constant( val_df.filename_list.to_numpy() )\n",
        "val_y = tf.ragged.constant( val_df.hrr_list.to_numpy() )\n",
        "\n",
        "train_data  = tf.data.Dataset.from_tensor_slices( (train_x, train_y) )\n",
        "validation_data = tf.data.Dataset.from_tensor_slices( (val_x, val_y) )\n",
        "\n",
        "BATCH_SIZE = 1\n",
        "\n",
        "size_x = 1080\n",
        "size_y = 1920\n",
        "\n",
        "@tf.function\n",
        "def get_img(file_path):\n",
        "  # print(file_path[0].numpy())\n",
        "  # read data\n",
        "  img = tf.io.read_file(file_path)\n",
        "  img = tf.image.decode_jpeg(img)\n",
        "  img = tf.image.resize(img, [540, 960])\n",
        "  img = img/255.\n",
        "\n",
        "  return img\n",
        "\n",
        "@tf.function\n",
        "def process_data(filepath_list, target_list):\n",
        "  imgs_tensor =  filepath_list.with_flat_values(tf.map_fn(get_img, filepath_list.flat_values, fn_output_signature=tf.float32)) # rt.with_flat_values(map_fn(fn, rt.flat_values))\n",
        "\n",
        "  return imgs_tensor.to_tensor(), tf.expand_dims(target_list.to_tensor(),2)    # target_list.to_tensor()\n",
        "\n",
        "\n",
        "\n",
        "train_data = train_data.shuffle(buffer_size = len(train_df))\n",
        "train_data = train_data.batch(batch_size = BATCH_SIZE)\n",
        "train_data = train_data.map(process_data, num_parallel_calls = AUTOTUNE)\n",
        "# train_data = train_data.map(lambda x,y: (tf.cast(x, tf.float32),y))\n",
        "# train_data = train_data.map(pad_tensors)\n",
        "# train_data = train_data.map(lambda x,y: (x.to_tensor(default_value = 0, shape = [None, None, None, None]), y.to_tensor(default_value = 0, shape = [None])))\n",
        "train_data = train_data.prefetch(buffer_size = AUTOTUNE)\n",
        "\n",
        "\n",
        "validation_data = validation_data.shuffle(buffer_size = len(val_df))\n",
        "validation_data = validation_data.batch(batch_size = BATCH_SIZE)\n",
        "validation_data = validation_data.map(process_data, num_parallel_calls = AUTOTUNE)\n",
        "# validation_data = validation_data.map(lambda x,y: (tf.cast(x, tf.float32),y))\n",
        "# validation_data = validation_data.map(pad_tensors)\n",
        "# train_data = train_data.map(lambda x,y: (x.to_tensor(default_value = 0, shape = [None, None, None, None]), y.to_tensor(default_value = 0, shape = [None])))\n",
        "validation_data = validation_data.prefetch(buffer_size = AUTOTUNE)"
      ],
      "metadata": {
        "id": "lAyo2oyLsUyF"
      },
      "execution_count": null,
      "outputs": []
    },
    {
      "cell_type": "code",
      "source": [
        "for x,y in train_data.take(1):\n",
        "  print(x.shape)\n",
        "  print(y.shape)\n",
        "  print(y)"
      ],
      "metadata": {
        "colab": {
          "base_uri": "https://localhost:8080/"
        },
        "id": "X8gBS027tEes",
        "outputId": "06b5c5d0-c352-45a3-b500-f27169e7ac33"
      },
      "execution_count": null,
      "outputs": [
        {
          "output_type": "stream",
          "name": "stdout",
          "text": [
            "(1, 11, 540, 960, 3)\n",
            "(1, 11, 1)\n",
            "tf.Tensor(\n",
            "[[[1.2500e+00]\n",
            "  [3.5577e+02]\n",
            "  [1.8551e+03]\n",
            "  [7.0198e+02]\n",
            "  [1.7819e+02]\n",
            "  [7.5200e+01]\n",
            "  [3.2010e+01]\n",
            "  [2.1660e+01]\n",
            "  [1.1230e+01]\n",
            "  [8.1800e+00]\n",
            "  [2.4800e+00]]], shape=(1, 11, 1), dtype=float32)\n"
          ]
        }
      ]
    },
    {
      "cell_type": "code",
      "source": [
        "max_len = 161\n",
        "initialiser = 'glorot_uniform'\n",
        "reg_lambda  = 0.001\n",
        "\n",
        "input = Input(shape=(None,540,960,3))\n",
        "\n",
        "x = TimeDistributed(Conv2D(8, (5, 5), strides=(2, 2), padding='same'))(input)\n",
        "x = TimeDistributed(Activation('relu'))(x)\n",
        "\n",
        "x = TimeDistributed(Conv2D(8, (3, 3), strides=(2, 2), padding='same'))(x)\n",
        "x = TimeDistributed(Activation('relu'))(x)\n",
        "\n",
        "x = TimeDistributed(MaxPooling2D(),name='First_Maxpool')(x)\n",
        "#------------------------------------------------------------------------------------------------------------------------------------------------\n",
        "x = TimeDistributed(Conv2D(16, (3, 3), strides=(2, 2), padding='same'))(x)\n",
        "x = TimeDistributed(BatchNormalization())(x)\n",
        "x = TimeDistributed(Activation('relu'))(x)\n",
        "\n",
        "x = TimeDistributed(Conv2D(16, (3, 3), strides=(2, 2), padding='same'))(x)\n",
        "x = TimeDistributed(Activation('relu'))(x)\n",
        "\n",
        "x = TimeDistributed(MaxPooling2D(),name='Second_Maxpool')(x)\n",
        "#------------------------------------------------------------------------------------------------------------------------------------------------\n",
        "# x = TimeDistributed(Conv2D(32, (3, 3), strides=(2, 2), padding='same'))(x)\n",
        "# x = TimeDistributed(BatchNormalization())(x)\n",
        "# x = TimeDistributed(Activation('relu'))(x)\n",
        "\n",
        "# x = TimeDistributed(MaxPooling2D(),name='Third_Maxpool')(x)\n",
        "#------------------------------------------------------------------------------------------------------------------------------------------------\n",
        "x = TimeDistributed(Flatten(),name='Flatten')(x)\n",
        "x = LSTM(16,return_sequences=True,dropout=0.3)(x)\n",
        "output = TimeDistributed(Dense(1, activation=\"linear\"))(x)\n",
        "\n",
        "model = Model(inputs=input,outputs=output)\n",
        "\n",
        "model.summary()"
      ],
      "metadata": {
        "colab": {
          "base_uri": "https://localhost:8080/"
        },
        "id": "lZkqFojHKTJH",
        "outputId": "cc153680-501b-4283-9af9-7c0366707c9d"
      },
      "execution_count": null,
      "outputs": [
        {
          "output_type": "stream",
          "name": "stdout",
          "text": [
            "Model: \"model_1\"\n",
            "_________________________________________________________________\n",
            " Layer (type)                Output Shape              Param #   \n",
            "=================================================================\n",
            " input_2 (InputLayer)        [(None, None, 540, 960,   0         \n",
            "                             3)]                                 \n",
            "                                                                 \n",
            " time_distributed_10 (TimeDi  (None, None, 270, 480, 8  608      \n",
            " stributed)                  )                                   \n",
            "                                                                 \n",
            " time_distributed_11 (TimeDi  (None, None, 270, 480, 8  0        \n",
            " stributed)                  )                                   \n",
            "                                                                 \n",
            " time_distributed_12 (TimeDi  (None, None, 135, 240, 8  584      \n",
            " stributed)                  )                                   \n",
            "                                                                 \n",
            " time_distributed_13 (TimeDi  (None, None, 135, 240, 8  0        \n",
            " stributed)                  )                                   \n",
            "                                                                 \n",
            " First_Maxpool (TimeDistribu  (None, None, 67, 120, 8)  0        \n",
            " ted)                                                            \n",
            "                                                                 \n",
            " time_distributed_14 (TimeDi  (None, None, 34, 60, 16)  1168     \n",
            " stributed)                                                      \n",
            "                                                                 \n",
            " time_distributed_15 (TimeDi  (None, None, 34, 60, 16)  64       \n",
            " stributed)                                                      \n",
            "                                                                 \n",
            " time_distributed_16 (TimeDi  (None, None, 34, 60, 16)  0        \n",
            " stributed)                                                      \n",
            "                                                                 \n",
            " time_distributed_17 (TimeDi  (None, None, 17, 30, 16)  2320     \n",
            " stributed)                                                      \n",
            "                                                                 \n",
            " time_distributed_18 (TimeDi  (None, None, 17, 30, 16)  0        \n",
            " stributed)                                                      \n",
            "                                                                 \n",
            " Second_Maxpool (TimeDistrib  (None, None, 8, 15, 16)  0         \n",
            " uted)                                                           \n",
            "                                                                 \n",
            " Flatten (TimeDistributed)   (None, None, 1920)        0         \n",
            "                                                                 \n",
            " lstm (LSTM)                 (None, None, 16)          123968    \n",
            "                                                                 \n",
            " time_distributed_19 (TimeDi  (None, None, 1)          17        \n",
            " stributed)                                                      \n",
            "                                                                 \n",
            "=================================================================\n",
            "Total params: 128,729\n",
            "Trainable params: 128,697\n",
            "Non-trainable params: 32\n",
            "_________________________________________________________________\n"
          ]
        }
      ]
    },
    {
      "cell_type": "code",
      "source": [
        "model.compile(loss='mse',optimizer='adam',metrics=['mae'])"
      ],
      "metadata": {
        "id": "HZbcV2vmx-jO"
      },
      "execution_count": null,
      "outputs": []
    },
    {
      "cell_type": "code",
      "source": [
        "model_history = model.fit(train_data,epochs=10,validation_data=validation_data)"
      ],
      "metadata": {
        "colab": {
          "base_uri": "https://localhost:8080/"
        },
        "id": "KlDgO4FLtm96",
        "outputId": "b6a3d9ac-74cb-43ce-d2ca-3f4863bfee00"
      },
      "execution_count": null,
      "outputs": [
        {
          "output_type": "stream",
          "name": "stdout",
          "text": [
            "Epoch 1/10\n",
            "101/101 [==============================] - 22s 181ms/step - loss: 1375062.1250 - mae: 357.4597 - val_loss: 360100.5625 - val_mae: 262.5170\n",
            "Epoch 2/10\n",
            "101/101 [==============================] - 19s 180ms/step - loss: 1374782.2500 - mae: 357.3521 - val_loss: 359828.3438 - val_mae: 262.4347\n",
            "Epoch 3/10\n",
            "101/101 [==============================] - 16s 159ms/step - loss: 1374535.8750 - mae: 357.3166 - val_loss: 359579.1562 - val_mae: 262.3636\n",
            "Epoch 4/10\n",
            "101/101 [==============================] - 16s 160ms/step - loss: 1374296.7500 - mae: 357.2861 - val_loss: 359376.7812 - val_mae: 262.3134\n",
            "Epoch 5/10\n",
            "101/101 [==============================] - 18s 171ms/step - loss: 1374061.6250 - mae: 357.2633 - val_loss: 359175.1562 - val_mae: 262.2724\n",
            "Epoch 6/10\n",
            "101/101 [==============================] - 14s 136ms/step - loss: 1373821.1250 - mae: 357.2485 - val_loss: 358952.4688 - val_mae: 262.2274\n",
            "Epoch 7/10\n",
            "101/101 [==============================] - 15s 144ms/step - loss: 1373579.2500 - mae: 357.2451 - val_loss: 358772.5625 - val_mae: 262.1960\n",
            "Epoch 8/10\n",
            "101/101 [==============================] - 15s 148ms/step - loss: 1373348.0000 - mae: 357.2562 - val_loss: 358540.5000 - val_mae: 262.1632\n",
            "Epoch 9/10\n",
            "101/101 [==============================] - 14s 139ms/step - loss: 1373120.6250 - mae: 357.2526 - val_loss: 358344.7812 - val_mae: 262.1418\n",
            "Epoch 10/10\n",
            "101/101 [==============================] - 17s 170ms/step - loss: 1372881.8750 - mae: 357.2531 - val_loss: 358158.3438 - val_mae: 262.1230\n"
          ]
        }
      ]
    },
    {
      "cell_type": "code",
      "source": [
        "model.save(\"/content/drive/MyDrive/cnn_lstm_4\")"
      ],
      "metadata": {
        "colab": {
          "base_uri": "https://localhost:8080/"
        },
        "id": "M_bFDs-U0Yi7",
        "outputId": "4919bc11-df09-4d6f-f9c0-ca6eb2b47cd2"
      },
      "execution_count": null,
      "outputs": [
        {
          "output_type": "stream",
          "name": "stderr",
          "text": [
            "WARNING:absl:Found untraced functions such as lstm_cell_8_layer_call_fn, lstm_cell_8_layer_call_and_return_conditional_losses while saving (showing 2 of 2). These functions will not be directly callable after loading.\n"
          ]
        },
        {
          "output_type": "stream",
          "name": "stdout",
          "text": [
            "INFO:tensorflow:Assets written to: /content/drive/MyDrive/cnn_lstm_4/assets\n"
          ]
        },
        {
          "output_type": "stream",
          "name": "stderr",
          "text": [
            "INFO:tensorflow:Assets written to: /content/drive/MyDrive/cnn_lstm_4/assets\n",
            "WARNING:absl:<keras.layers.recurrent.LSTMCell object at 0x7f2b0c664310> has the same name 'LSTMCell' as a built-in Keras object. Consider renaming <class 'keras.layers.recurrent.LSTMCell'> to avoid naming conflicts when loading with `tf.keras.models.load_model`. If renaming is not possible, pass the object in the `custom_objects` parameter of the load function.\n"
          ]
        }
      ]
    },
    {
      "cell_type": "code",
      "source": [
        "mae = 0.0\n",
        "count = 0.0\n",
        "\n",
        "pred_flatten = []\n",
        "true_flatten = []\n",
        "for x,y in validation_data.take(len(validation_data)):\n",
        "  y_pred = model.predict(x)\n",
        "  #print(y_pred.shape, y.shape)\n",
        "  #break\n",
        "  for i,j in zip(y_pred,y):\n",
        "    i=i.reshape(-1)\n",
        "    j=tf.reshape(j,-1)\n",
        "    args = (j.numpy() != 0.0)\n",
        "    pred_flatten.extend(i.reshape(-1)[args])\n",
        "    true_flatten.extend(j.numpy()[args])\n",
        "\n",
        "for x, y in zip(pred_flatten,true_flatten):\n",
        "  mae = mae + np.abs(x-y)\n",
        "\n",
        "print(f'Mean absolute error is: {mae/len(pred_flatten)}')"
      ],
      "metadata": {
        "colab": {
          "base_uri": "https://localhost:8080/"
        },
        "id": "AH-_xis_0z9Y",
        "outputId": "54d38b21-eedb-47fb-afb8-367272f65c33"
      },
      "execution_count": null,
      "outputs": [
        {
          "output_type": "stream",
          "name": "stdout",
          "text": [
            "Mean absolute error is: 263.337819563685\n"
          ]
        }
      ]
    },
    {
      "cell_type": "code",
      "source": [
        ""
      ],
      "metadata": {
        "id": "5V7n7o799apC"
      },
      "execution_count": null,
      "outputs": []
    }
  ]
}